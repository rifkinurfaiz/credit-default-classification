{
 "cells": [
  {
   "cell_type": "code",
   "execution_count": 1,
   "metadata": {},
   "outputs": [
    {
     "name": "stdout",
     "output_type": "stream",
     "text": [
      "Accuracy: 0.968\n"
     ]
    }
   ],
   "source": [
    "from sklearn.model_selection import train_test_split\n",
    "from sklearn import metrics\n",
    "from sklearn import datasets\n",
    "from sklearn.naive_bayes import GaussianNB\n",
    "import pandas as pd\n",
    "\n",
    "# dataset from: https://www.kaggle.com/datasets/d4rklucif3r/defaulter?resource=download\n",
    "# dataset is credit card default\n",
    "data = pd.read_csv('./credit_card_defaulter.csv')\n",
    "# preparation data, currently target field is joined in the same dataframe, so we have to separate into other dataframe\n",
    "target = data.default\n",
    "# remove default and id field\n",
    "data = data.drop('default', axis=1)\n",
    "data = data.drop(data.columns[0], axis=1)\n",
    "# encoding string into integer\n",
    "data['student'] = data['student'].map({ 'Yes': 1, \"No\": 0 })\n",
    "target = target.map({ 'Yes': 1, 'No': 0 })\n",
    "\n",
    "# split data test and train 30:70 randomly\n",
    "X_train, X_test, y_train, y_test = train_test_split(data, target, test_size=0.3, random_state=109) # 70% training and 30% test\n",
    "\n",
    "# using naive bayes algorithm. strong assumption on the data is independence of each events.\n",
    "# this is good to go approach if the data is simple and assumes following BLUE\n",
    "gnb = GaussianNB()\n",
    "\n",
    "# train data\n",
    "gnb.fit(X_train, y_train)\n",
    "\n",
    "# forecast\n",
    "y_pred = gnb.predict(X_test)\n",
    "\n",
    "# accuracy is good: 0.968\n",
    "# all variables: student, balance, income are important,but most of all i think is income since it says a lot on repayment\n",
    "print(\"Accuracy:\", metrics.accuracy_score(y_test, y_pred))\n"
   ]
  }
 ],
 "metadata": {
  "kernelspec": {
   "display_name": "Python 3.9.12 ('base')",
   "language": "python",
   "name": "python3"
  },
  "language_info": {
   "codemirror_mode": {
    "name": "ipython",
    "version": 3
   },
   "file_extension": ".py",
   "mimetype": "text/x-python",
   "name": "python",
   "nbconvert_exporter": "python",
   "pygments_lexer": "ipython3",
   "version": "3.9.12"
  },
  "orig_nbformat": 4,
  "vscode": {
   "interpreter": {
    "hash": "a077222d77dfe082b8f1dd562ad70e458ac2ab76993a0b248ab0476e32e9e8dd"
   }
  }
 },
 "nbformat": 4,
 "nbformat_minor": 2
}
